{
 "cells": [
  {
   "attachments": {},
   "cell_type": "markdown",
   "metadata": {},
   "source": [
    "## Francony Alexandre\n",
    "\n",
    "# WebScrapper for MTG decks on cardmarket.com"
   ]
  },
  {
   "cell_type": "markdown",
   "metadata": {},
   "source": [
    "Nous allons dans un premier temps nous assurer que le site est atteignable à l'aide de la librairie requests et de la fonction get_status_code. Cette fonction sera réutilisée dans le code pour vérifier que le site est toujours atteignable avant chaque étape de récupération majeure."
   ]
  },
  {
   "cell_type": "code",
   "execution_count": 1,
   "metadata": {},
   "outputs": [
    {
     "name": "stdout",
     "output_type": "stream",
     "text": [
      "Le code d'état de Cardmarket est 200\n"
     ]
    }
   ],
   "source": [
    "import requests\n",
    "import csv\n",
    "import os\n",
    "import requests\n",
    "from bs4 import BeautifulSoup\n",
    "import re\n",
    "\n",
    "def get_status_code(url):\n",
    "    response = requests.get(url)\n",
    "    return response.status_code\n",
    "\n",
    "url = \"https://www.cardmarket.com/fr/Magic/Products/Singles/Phyrexia-All-Will-Be-One\"\n",
    "status_code = get_status_code(url)\n",
    "print(\"Le code d'état de Cardmarket est\", status_code)\n"
   ]
  },
  {
   "cell_type": "code",
   "execution_count": 2,
   "metadata": {},
   "outputs": [],
   "source": [
    "def prep(card):\n",
    "    #transformer tout les caractères non alphanumériques en tirets et tout en minuscule et les espaces en tirets\n",
    "    return re.sub(r'\\W+', '-', card).lower()"
   ]
  },
  {
   "cell_type": "code",
   "execution_count": 22,
   "metadata": {},
   "outputs": [],
   "source": [
    "with open('data/deck.txt', 'r') as file:\n",
    "    decklist = file.read()\n",
    "\n",
    "#Récupérer la première ligne du fichier qui contient 'MIN_QUALITY = \"<qualité>\"'\n",
    "MIN_QUALITY = decklist.splitlines()[0].split(\" = \")[1].strip('\"')\n",
    "#print(MIN_QUALITY)\n",
    "\n",
    "#Récupérer chaque autre ligne du fichier qui contient \"quantité nom de la carte\" et les stocker dans un dictionaire\n",
    "deck = {}\n",
    "for line in decklist.splitlines()[1:]:\n",
    "    quantity, card = line.split(\" \", 1)\n",
    "    deck[card] = quantity\n",
    "#print(deck)\n",
    "\n",
    "#et maintenant ajoutons l'url de chaque carte dans le dictionnaire\n",
    "for card in deck:\n",
    "    deck[card] = [deck[card], \"https://www.cardmarket.com/en/Magic/Cards/\" + prep(card)]\n",
    "#print(deck)\n"
   ]
  },
  {
   "cell_type": "code",
   "execution_count": 30,
   "metadata": {},
   "outputs": [],
   "source": [
    "qualities = []\n",
    "def switch_case(argument):\n",
    "    switcher = {\n",
    "        \"MT\": [\"MT\"],\n",
    "        \"NM\": [\"NM\", \"MT\"],\n",
    "        \"EX\": [\"EX\", \"NM\", \"MT\"],\n",
    "        \"GD\": [\"GD\", \"EX\", \"NM\", \"MT\"],\n",
    "        \"LP\": [\"LP\", \"GD\", \"EX\", \"NM\", \"MT\"],\n",
    "        \"PL\": [\"PL\", \"LP\", \"GD\", \"EX\", \"NM\", \"MT\"],\n",
    "        \"PO\": [\"PO\", \"PL\", \"LP\", \"GD\", \"EX\", \"NM\", \"MT\"],\n",
    "    }\n",
    "    return switcher.get(argument, [\"MT\"])\n",
    "\n",
    "qualities = switch_case(MIN_QUALITY)\n",
    "#print(qualities)\n"
   ]
  },
  {
   "cell_type": "code",
   "execution_count": 45,
   "metadata": {},
   "outputs": [],
   "source": [
    "def getCardName(card):\n",
    "    #récupérer le nom de la carte qui est la clé du dictionnaire\n",
    "    card_name = card\n",
    "    if(card_name == ''):\n",
    "        card_name = 'Undefined'\n",
    "    return card_name;\n",
    "\n",
    "def getCardPrices(card):\n",
    "    cards_sales = []\n",
    "    tab_prices = []\n",
    "    \n",
    "    # Récupération du contenu de la page\n",
    "    url = deck[card][1]\n",
    "    response = requests.get(url)\n",
    "    soup = BeautifulSoup(response.content, 'html.parser')\n",
    "\n",
    "    # Recherche de la liste des cartes\n",
    "    table = soup.find_all('div', {'class': 'row no-gutters article-row'})\n",
    "\n",
    "    for row in table:\n",
    "        cards_sales.append(row)\n",
    "\n",
    "    #récupérer les 5 premiers prix de vente de la carte\n",
    "    for card in cards_sales:\n",
    "        card_price = card.find('span', {\"class\" : \"font-weight-bold color-primary small text-right text-nowrap\"}).text.strip()[:-2]\n",
    "        tab_prices.append(card_price.replace(',', '.'))\n",
    "        if len(tab_prices) == 5:\n",
    "            break\n",
    "\n",
    "    return tab_prices;\n",
    "\n",
    "def getCardQuantity(card):\n",
    "    # récupérer l'url de la carte\n",
    "    url = deck[card][1]\n",
    "    response = requests.get(url)\n",
    "    soup = BeautifulSoup(response.content, 'html.parser')\n",
    "\n",
    "    # Récupération du cadre contenant les informations de la carte\n",
    "    card_frame = soup.find('dl', {\"class\" : \"labeled row no-gutters mx-auto\"})\n",
    "\n",
    "    # Récupération de la quantité de la carte\n",
    "    frame_infos = card_frame.find_all('dd', {\"class\" : \"col-6 col-xl-7\"})[-6:]\n",
    "\n",
    "    # récupérer seulement la quantité, qui est contenu dans le premier élément du tableau\n",
    "    card_quantity = frame_infos[0].text.strip()\n",
    "\n",
    "    return card_quantity;\n",
    "\n",
    "def getCardAveragePrice(card):\n",
    "    # Récupération du contenu de la page\n",
    "    url = deck[card][1]\n",
    "    response = requests.get(url)\n",
    "    soup = BeautifulSoup(response.content, 'html.parser')\n",
    "\n",
    "    # Récupération du cadre contenant les informations de la carte\n",
    "    card_frame = soup.find('dl', {\"class\" : \"labeled row no-gutters mx-auto\"})\n",
    "\n",
    "    # Récupération des données en chiffre de la carte\n",
    "    frame_infos = card_frame.find_all('dd', {\"class\" : \"col-6 col-xl-7\"})[-6:]\n",
    "    \n",
    "    # récupérer seulement le prix moyen sur 7 jours, qui est contenu dans l'avant dernier élément du tableau\n",
    "    card_average_price = frame_infos[-2].text.strip()\n",
    "    return card_average_price.replace(',', '.').replace(' €', '').replace('£', '');\n",
    "\n",
    "def getBuyableInfo(card):\n",
    "    cards_sales = []\n",
    "\n",
    "    # Récupération du contenu de la page\n",
    "    url = deck[card][1]\n",
    "    response = requests.get(url)\n",
    "    soup = BeautifulSoup(response.content, 'html.parser')\n",
    "\n",
    "    # Recherche de la liste des cartes\n",
    "    table = soup.find('div', {'class': 'table-body'})\n",
    "\n",
    "    #dans table, trouver chaque ligne représentant une carte à vendre avec son prix, sa qualité et sa langue\n",
    "\n",
    "    for row in table:\n",
    "        cards_sales.append(row)\n",
    "\n",
    "    # Stocker les informations de chaque carte à vendre en prenant son prix, sa qualité et sa langue\n",
    "    for card in cards_sales:\n",
    "        card_price = card.find('span', {\"class\" : \"font-weight-bold color-primary small text-right text-nowrap\"}).text.strip()[:-2]\n",
    "        card_quality = card.find('span', {\"class\" : \"badge\"}).text.strip()\n",
    "        card_language = card.find_all('span', {'class' : 'icon mr-2'})[-1].span['data-original-title']\n",
    "        if card_quality in qualities:\n",
    "            return [card_price.replace(',', '.'), card_quality, card_language]\n",
    "    return ['0', '0', '0']"
   ]
  },
  {
   "cell_type": "code",
   "execution_count": 56,
   "metadata": {},
   "outputs": [
    {
     "ename": "TypeError",
     "evalue": "'NoneType' object is not subscriptable",
     "output_type": "error",
     "traceback": [
      "\u001b[1;31m---------------------------------------------------------------------------\u001b[0m",
      "\u001b[1;31mTypeError\u001b[0m                                 Traceback (most recent call last)",
      "Cell \u001b[1;32mIn[56], line 22\u001b[0m\n\u001b[0;32m     20\u001b[0m card_quality \u001b[39m=\u001b[39m card\u001b[39m.\u001b[39mfind(\u001b[39m'\u001b[39m\u001b[39mspan\u001b[39m\u001b[39m'\u001b[39m, {\u001b[39m\"\u001b[39m\u001b[39mclass\u001b[39m\u001b[39m\"\u001b[39m : \u001b[39m\"\u001b[39m\u001b[39mbadge\u001b[39m\u001b[39m\"\u001b[39m})\u001b[39m.\u001b[39mtext\u001b[39m.\u001b[39mstrip()\n\u001b[0;32m     21\u001b[0m span_lg \u001b[39m=\u001b[39m card\u001b[39m.\u001b[39mfind_all(\u001b[39m'\u001b[39m\u001b[39mspan\u001b[39m\u001b[39m'\u001b[39m, {\u001b[39m'\u001b[39m\u001b[39mclass\u001b[39m\u001b[39m'\u001b[39m : \u001b[39m'\u001b[39m\u001b[39micon mr-2\u001b[39m\u001b[39m'\u001b[39m})[\u001b[39m-\u001b[39m\u001b[39m1\u001b[39m]\n\u001b[1;32m---> 22\u001b[0m \u001b[39mif\u001b[39;00m span_lg\u001b[39m.\u001b[39;49mspan[\u001b[39m1\u001b[39;49m] \u001b[39mis\u001b[39;00m \u001b[39mnot\u001b[39;00m \u001b[39mNone\u001b[39;00m:\n\u001b[0;32m     23\u001b[0m     card_language \u001b[39m=\u001b[39m span_lg[\u001b[39m1\u001b[39m]\u001b[39m.\u001b[39mspan[\u001b[39m'\u001b[39m\u001b[39mdata-original-title\u001b[39m\u001b[39m'\u001b[39m]\n\u001b[0;32m     24\u001b[0m \u001b[39melse\u001b[39;00m:\n",
      "\u001b[1;31mTypeError\u001b[0m: 'NoneType' object is not subscriptable"
     ]
    }
   ],
   "source": [
    "cards_sales = []\n",
    "\n",
    "# Récupération du contenu de la page\n",
    "url = deck[\"Jodah, the Unifier\"][1]\n",
    "response = requests.get(url)\n",
    "soup = BeautifulSoup(response.content, 'html.parser')\n",
    "\n",
    "# Recherche de la liste des cartes\n",
    "table = soup.find('div', {'class': 'table-body'})\n",
    "\n",
    "#dans table, trouver chaque ligne représentant une carte à vendre avec son prix, sa qualité et sa langue\n",
    "\n",
    "for row in table:\n",
    "    cards_sales.append(row)\n",
    "\n",
    "# Stocker les informations de chaque carte à vendre en prenant son prix, sa qualité et sa langue\n",
    "for card in cards_sales:\n",
    "    #print((card.find_all('span', {'class' : 'icon mr-2'})[-1]).span['data-original-title'])\n",
    "    card_price = card.find('span', {\"class\" : \"font-weight-bold color-primary small text-right text-nowrap\"}).text.strip()[:-2]\n",
    "    card_quality = card.find('span', {\"class\" : \"badge\"}).text.strip()\n",
    "    span_lg = card.find_all('span', {'class' : 'icon mr-2'})[-1]\n",
    "    if span_lg.span is not None:\n",
    "        card_language = span_lg.span['data-original-title']\n",
    "    else:\n",
    "        print(\"pas trouvé dans \")\n",
    "        print(span_lg)\n",
    "    \n",
    "# prendre le dernier élément de card.find_all('span', {'class' : 'icon mr-2'})\n",
    "# prendre le span['data-original-title'] de ce dernier élément\n"
   ]
  },
  {
   "cell_type": "code",
   "execution_count": 46,
   "metadata": {},
   "outputs": [
    {
     "ename": "TypeError",
     "evalue": "'NoneType' object is not subscriptable",
     "output_type": "error",
     "traceback": [
      "\u001b[1;31m---------------------------------------------------------------------------\u001b[0m",
      "\u001b[1;31mTypeError\u001b[0m                                 Traceback (most recent call last)",
      "Cell \u001b[1;32mIn[46], line 1\u001b[0m\n\u001b[1;32m----> 1\u001b[0m \u001b[39mprint\u001b[39m(getBuyableInfo(\u001b[39m'\u001b[39;49m\u001b[39mJodah, the Unifier\u001b[39;49m\u001b[39m'\u001b[39;49m))\n",
      "Cell \u001b[1;32mIn[45], line 85\u001b[0m, in \u001b[0;36mgetBuyableInfo\u001b[1;34m(card)\u001b[0m\n\u001b[0;32m     83\u001b[0m card_price \u001b[39m=\u001b[39m card\u001b[39m.\u001b[39mfind(\u001b[39m'\u001b[39m\u001b[39mspan\u001b[39m\u001b[39m'\u001b[39m, {\u001b[39m\"\u001b[39m\u001b[39mclass\u001b[39m\u001b[39m\"\u001b[39m : \u001b[39m\"\u001b[39m\u001b[39mfont-weight-bold color-primary small text-right text-nowrap\u001b[39m\u001b[39m\"\u001b[39m})\u001b[39m.\u001b[39mtext\u001b[39m.\u001b[39mstrip()[:\u001b[39m-\u001b[39m\u001b[39m2\u001b[39m]\n\u001b[0;32m     84\u001b[0m card_quality \u001b[39m=\u001b[39m card\u001b[39m.\u001b[39mfind(\u001b[39m'\u001b[39m\u001b[39mspan\u001b[39m\u001b[39m'\u001b[39m, {\u001b[39m\"\u001b[39m\u001b[39mclass\u001b[39m\u001b[39m\"\u001b[39m : \u001b[39m\"\u001b[39m\u001b[39mbadge\u001b[39m\u001b[39m\"\u001b[39m})\u001b[39m.\u001b[39mtext\u001b[39m.\u001b[39mstrip()\n\u001b[1;32m---> 85\u001b[0m card_language \u001b[39m=\u001b[39m card\u001b[39m.\u001b[39;49mfind_all(\u001b[39m'\u001b[39;49m\u001b[39mspan\u001b[39;49m\u001b[39m'\u001b[39;49m, {\u001b[39m'\u001b[39;49m\u001b[39mclass\u001b[39;49m\u001b[39m'\u001b[39;49m : \u001b[39m'\u001b[39;49m\u001b[39micon mr-2\u001b[39;49m\u001b[39m'\u001b[39;49m})[\u001b[39m-\u001b[39;49m\u001b[39m1\u001b[39;49m]\u001b[39m.\u001b[39;49mspan[\u001b[39m'\u001b[39;49m\u001b[39mdata-original-title\u001b[39;49m\u001b[39m'\u001b[39;49m]\n\u001b[0;32m     86\u001b[0m \u001b[39mif\u001b[39;00m card_quality \u001b[39min\u001b[39;00m qualities:\n\u001b[0;32m     87\u001b[0m     \u001b[39mreturn\u001b[39;00m [card_price\u001b[39m.\u001b[39mreplace(\u001b[39m'\u001b[39m\u001b[39m,\u001b[39m\u001b[39m'\u001b[39m, \u001b[39m'\u001b[39m\u001b[39m.\u001b[39m\u001b[39m'\u001b[39m), card_quality, card_language]\n",
      "\u001b[1;31mTypeError\u001b[0m: 'NoneType' object is not subscriptable"
     ]
    }
   ],
   "source": [
    "print(getBuyableInfo('Jodah, the Unifier'))"
   ]
  },
  {
   "attachments": {},
   "cell_type": "markdown",
   "metadata": {},
   "source": [
    "A présent que nous avons pu créer notre nouveau dictionnaire avec les cartes sélectionnées, nous allons pouvoir créer un nouveau fichier csv qui contiendra uniquement les infos des cartes sélectionnées et avoir plus rapidement les informations afin de pouvoir réagir presque en temps réel. Les cartes que j'ai sélectionnés sont purement arbitraire, je prévois de les inclure dans l'un de mes decks."
   ]
  },
  {
   "cell_type": "code",
   "execution_count": 16,
   "metadata": {},
   "outputs": [],
   "source": [
    "def getCardInfoWL(card):\n",
    "    url = card_url[card]\n",
    "    if(get_status_code(url) == 200):\n",
    "        card_intel = []\n",
    "        card_intel.append(getCardName(card))\n",
    "        card_intel.append(getCardPrices(card))\n",
    "        card_intel.append(getCardQuantity(card))\n",
    "        card_intel.append(getCardAveragePrice(card))\n",
    "\n",
    "    else:\n",
    "        print(\"Le code d'état de la page de \", card, \" est \", get_status_code(url), \", la page n'a pas pu être chargée.\")\n",
    "    return card_intel\n",
    "\n",
    "#for card in card_url:\n",
    "#    print(getCardInfoWL(card))"
   ]
  },
  {
   "cell_type": "code",
   "execution_count": 17,
   "metadata": {},
   "outputs": [],
   "source": [
    "# à décommenter pour créer le fichier .csv (prends environ 1m20 max)\n",
    "# Création du dossier s'il n'existe pas déjà\n",
    "if not os.path.exists('data'):\n",
    "    os.makedirs('data')\n",
    "\n",
    "# Création du fichier .csv\n",
    "with open('data/wants.csv', 'w', newline='', encoding='utf-8') as csvfile:\n",
    "    writer = csv.writer(csvfile, delimiter=';')\n",
    "    # nommer les collonnes du tableau\n",
    "    writer.writerow(['Card Name', 'Prices', 'Quantity', 'Average Price (7 days)'])\n",
    "    for card in card_url:\n",
    "        writer.writerow(getCardInfoWL(card))"
   ]
  }
 ],
 "metadata": {
  "kernelspec": {
   "display_name": "Python 3",
   "language": "python",
   "name": "python3"
  },
  "language_info": {
   "codemirror_mode": {
    "name": "ipython",
    "version": 3
   },
   "file_extension": ".py",
   "mimetype": "text/x-python",
   "name": "python",
   "nbconvert_exporter": "python",
   "pygments_lexer": "ipython3",
   "version": "3.11.1"
  },
  "orig_nbformat": 4,
  "vscode": {
   "interpreter": {
    "hash": "376dd7633afddb7e11c0a9ffa5f656d1a19ddfafae55033d07193535982b765e"
   }
  }
 },
 "nbformat": 4,
 "nbformat_minor": 2
}
