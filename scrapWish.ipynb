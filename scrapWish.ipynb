{
 "cells": [
  {
   "cell_type": "markdown",
   "metadata": {},
   "source": [
    "## Francony Alexandre\n",
    "\n",
    "# WebScrapper for MTG cards on cardmarket.com"
   ]
  },
  {
   "cell_type": "markdown",
   "metadata": {},
   "source": [
    "Nous allons dans un premier temps nous assurer que le site est atteignable à l'aide de la librairie requests et de la fonction get_status_code. Cette fonction sera réutilisée dans le code pour vérifier que le site est toujours atteignable avant chaque étape de récupération majeure."
   ]
  },
  {
   "cell_type": "code",
   "execution_count": 13,
   "metadata": {},
   "outputs": [
    {
     "name": "stdout",
     "output_type": "stream",
     "text": [
      "Le code d'état de Cardmarket est 200\n"
     ]
    }
   ],
   "source": [
    "import requests\n",
    "import csv\n",
    "import os\n",
    "import requests\n",
    "from bs4 import BeautifulSoup\n",
    "import re\n",
    "\n",
    "def get_status_code(url):\n",
    "    response = requests.get(url)\n",
    "    return response.status_code\n",
    "\n",
    "url = \"https://www.cardmarket.com/fr/Magic/Products/Singles/Phyrexia-All-Will-Be-One\"\n",
    "status_code = get_status_code(url)\n",
    "print(\"Le code d'état de Cardmarket est\", status_code)\n"
   ]
  },
  {
   "cell_type": "code",
   "execution_count": 14,
   "metadata": {},
   "outputs": [],
   "source": [
    "with open('data/wishlist.txt', 'r') as file:\n",
    "    wl = file.read()\n",
    "\n",
    "def prep(card):\n",
    "    #transformer tout les caractères non alphanumériques en tirets et tout en minuscule et les espaces en tirets\n",
    "    return re.sub(r'\\W+', '-', card).lower()\n",
    "\n",
    "#créer un tableau contenant les noms des cartes de la wishlist\n",
    "wishlist = wl.split(\";\")\n",
    "#print(wishlist)\n",
    "\n",
    "#et maintenant créons un dictioanire qui contient les url des cartes de la wishlist\n",
    "url_base = \"https://www.cardmarket.com/fr/Magic/Cards/\"\n",
    "card_url = {}\n",
    "for card in wishlist:\n",
    "    #transformer tout les caractères non alphanumériques en tirets et tout en minuscule et les espaces en tirets\n",
    "    card_url[card] = url_base + prep(card)\n",
    "#print(wishlist_url)"
   ]
  },
  {
   "cell_type": "code",
   "execution_count": 15,
   "metadata": {},
   "outputs": [],
   "source": [
    "def getCardName(card):\n",
    "    #récupérer le nom de la carte qui est la clé du dictionnaire\n",
    "    card_name = card\n",
    "    if(card_name == ''):\n",
    "        card_name = 'Undefined'\n",
    "    return card_name;\n",
    "\n",
    "def getCardPrices(card):\n",
    "    cards_sales = []\n",
    "    tab_prices = []\n",
    "    \n",
    "    # Récupération du contenu de la page\n",
    "    url = card_url[card]\n",
    "    response = requests.get(url)\n",
    "    soup = BeautifulSoup(response.content, 'html.parser')\n",
    "\n",
    "    # Recherche de la liste des cartes\n",
    "    table = soup.find_all('div', {'class': 'row no-gutters article-row'})\n",
    "\n",
    "    for row in table:\n",
    "        cards_sales.append(row)\n",
    "\n",
    "    #récupérer les 5 premiers prix de vente de la carte\n",
    "    for card in cards_sales:\n",
    "        card_price = card.find('span', {\"class\" : \"font-weight-bold color-primary small text-right text-nowrap\"}).text.strip()[:-2]\n",
    "        tab_prices.append(card_price.replace(',', '.'))\n",
    "        if len(tab_prices) == 5:\n",
    "            break\n",
    "\n",
    "    return tab_prices;\n",
    "\n",
    "def getCardQuantity(card):\n",
    "    # récupérer l'url de la carte\n",
    "    url = card_url[card]\n",
    "    response = requests.get(url)\n",
    "    soup = BeautifulSoup(response.content, 'html.parser')\n",
    "\n",
    "    # Récupération du cadre contenant les informations de la carte\n",
    "    card_frame = soup.find('dl', {\"class\" : \"labeled row no-gutters mx-auto\"})\n",
    "\n",
    "    # Récupération de la quantité de la carte\n",
    "    frame_infos = card_frame.find_all('dd', {\"class\" : \"col-6 col-xl-7\"})[-6:]\n",
    "\n",
    "    # récupérer seulement la quantité, qui est contenu dans le premier élément du tableau\n",
    "    card_quantity = frame_infos[0].text.strip()\n",
    "\n",
    "    return card_quantity;\n",
    "\n",
    "def getCardAveragePrice(card):\n",
    "    # Récupération du contenu de la page\n",
    "    url = card_url[card]\n",
    "    response = requests.get(url)\n",
    "    soup = BeautifulSoup(response.content, 'html.parser')\n",
    "\n",
    "    # Récupération du cadre contenant les informations de la carte\n",
    "    card_frame = soup.find('dl', {\"class\" : \"labeled row no-gutters mx-auto\"})\n",
    "\n",
    "    # Récupération des données en chiffre de la carte\n",
    "    frame_infos = card_frame.find_all('dd', {\"class\" : \"col-6 col-xl-7\"})[-6:]\n",
    "    \n",
    "    # récupérer seulement le prix moyen sur 7 jours, qui est contenu dans l'avant dernier élément du tableau\n",
    "    card_average_price = frame_infos[-2].text.strip()\n",
    "    return card_average_price.replace(',', '.').replace(' €', '').replace('£', '');"
   ]
  },
  {
   "attachments": {},
   "cell_type": "markdown",
   "metadata": {},
   "source": [
    "A présent que nous avons pu créer notre nouveau dictionnaire avec les cartes sélectionnées, nous allons pouvoir créer un nouveau fichier csv qui contiendra uniquement les infos des cartes sélectionnées et avoir plus rapidement les informations afin de pouvoir réagir presque en temps réel. Les cartes que j'ai sélectionnés sont purement arbitraire, je prévois de les inclure dans l'un de mes decks."
   ]
  },
  {
   "cell_type": "code",
   "execution_count": 16,
   "metadata": {},
   "outputs": [],
   "source": [
    "def getCardInfoWL(card):\n",
    "    url = card_url[card]\n",
    "    if(get_status_code(url) == 200):\n",
    "        card_intel = []\n",
    "        card_intel.append(getCardName(card))\n",
    "        card_intel.append(getCardPrices(card))\n",
    "        card_intel.append(getCardQuantity(card))\n",
    "        card_intel.append(getCardAveragePrice(card))\n",
    "\n",
    "    else:\n",
    "        print(\"Le code d'état de la page de \", card, \" est \", get_status_code(url), \", la page n'a pas pu être chargée.\")\n",
    "    return card_intel\n",
    "\n",
    "#for card in card_url:\n",
    "#    print(getCardInfoWL(card))"
   ]
  },
  {
   "cell_type": "code",
   "execution_count": 17,
   "metadata": {},
   "outputs": [],
   "source": [
    "# à décommenter pour créer le fichier .csv (prends environ 1m20 max)\n",
    "# Création du dossier s'il n'existe pas déjà\n",
    "if not os.path.exists('data'):\n",
    "    os.makedirs('data')\n",
    "\n",
    "# Création du fichier .csv\n",
    "with open('data/wants.csv', 'w', newline='', encoding='utf-8') as csvfile:\n",
    "    writer = csv.writer(csvfile, delimiter=';')\n",
    "    # nommer les collonnes du tableau\n",
    "    writer.writerow(['Card Name', 'Prices', 'Quantity', 'Average Price (7 days)'])\n",
    "    for card in card_url:\n",
    "        writer.writerow(getCardInfoWL(card))"
   ]
  }
 ],
 "metadata": {
  "kernelspec": {
   "display_name": "Python 3",
   "language": "python",
   "name": "python3"
  },
  "language_info": {
   "codemirror_mode": {
    "name": "ipython",
    "version": 3
   },
   "file_extension": ".py",
   "mimetype": "text/x-python",
   "name": "python",
   "nbconvert_exporter": "python",
   "pygments_lexer": "ipython3",
   "version": "3.11.1"
  },
  "orig_nbformat": 4,
  "vscode": {
   "interpreter": {
    "hash": "376dd7633afddb7e11c0a9ffa5f656d1a19ddfafae55033d07193535982b765e"
   }
  }
 },
 "nbformat": 4,
 "nbformat_minor": 2
}
