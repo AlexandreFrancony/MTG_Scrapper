{
 "cells": [
  {
   "attachments": {},
   "cell_type": "markdown",
   "metadata": {},
   "source": [
    "# Francony Alexandre\n",
    "\n",
    "# WebScrapper for MTG cards on cardmarket.com"
   ]
  },
  {
   "attachments": {},
   "cell_type": "markdown",
   "metadata": {},
   "source": [
    "![img infos](images/cardmarket.png \"Logo Cardmarket\")"
   ]
  },
  {
   "attachments": {},
   "cell_type": "markdown",
   "metadata": {},
   "source": [
    "## Objectif : \n",
    "\n",
    "### 1) Récupérer toute les cartes de l'extensions \"Phyrexia : all wil be one\" sur le site cardmarket.com\n",
    "#### URL : https://www.cardmarket.com/en/Magic/Products/Singles/Phyrexia-All-Will-Be-One\n",
    "\n",
    "### 2) Récupérer les informations suivantes :\n",
    "#### - Nom de la carte\n",
    "#### - 5 prix de vente (les plus bas)\n",
    "#### - La quantité d'exemplaire disponible\n",
    "#### - Le prix moyen de vente sur 7 jours\n",
    "#### - Une image de la carte"
   ]
  },
  {
   "cell_type": "markdown",
   "metadata": {},
   "source": [
    "Nous allons dans un premier temps nous assurer que le site est atteignable à l'aide de la librairie requests et de la fonction get_status_code. Cette fonction sera réutilisée dans le code pour vérifier que le site est toujours atteignable avant chaque étape de récupération majeure."
   ]
  },
  {
   "cell_type": "code",
   "execution_count": 1,
   "metadata": {},
   "outputs": [
    {
     "name": "stdout",
     "output_type": "stream",
     "text": [
      "Le code d'état de Cardmarket est 200\n"
     ]
    }
   ],
   "source": [
    "import requests\n",
    "import csv\n",
    "import os\n",
    "import requests\n",
    "from bs4 import BeautifulSoup\n",
    "import re\n",
    "\n",
    "def get_status_code(url):\n",
    "    response = requests.get(url)\n",
    "    return response.status_code\n",
    "\n",
    "url = \"https://www.cardmarket.com/fr/Magic/Products/Singles/Phyrexia-All-Will-Be-One\"\n",
    "status_code = get_status_code(url)\n",
    "print(\"Le code d'état de Cardmarket est\", status_code)\n"
   ]
  },
  {
   "cell_type": "markdown",
   "metadata": {},
   "source": [
    "Nous allons commencer par créer quelques fonctions permettant de récupérer les informations sur le dictionnaire contenant les cartes récupérés, c'est ce dernier qui contiendra toute les informations sur les cartes récupérés, il est donc vital de s'assurer de sa bonne structure. Prep () nous servirera à transformer le nom d'une carte en son lien afin d'accéder aux infos."
   ]
  },
  {
   "cell_type": "code",
   "execution_count": 2,
   "metadata": {},
   "outputs": [],
   "source": [
    "def head(dict):# Fonction qui permet d'afficher les 5 premiers éléments d'un dictionnaire\n",
    "    i = 0\n",
    "    for key in dict:\n",
    "        if(i < 5):\n",
    "            print(key, dict[key])\n",
    "            i += 1\n",
    "        else:\n",
    "            break\n",
    "\n",
    "def foot(dict):# Fonction qui permet d'afficher les 5 derniers éléments d'un dictionnaire\n",
    "    i = 0\n",
    "    for key in reversed(dict):\n",
    "        if(i < 5):\n",
    "            print(key, dict[key])\n",
    "            i += 1\n",
    "        else:\n",
    "            break\n",
    "\n",
    "def info(dicto):\n",
    "    print(f\"{len(dicto)} cartes récupérées.\\n\")\n",
    "    print(\"5 premières cartes :\")\n",
    "    head(dicto)\n",
    "    print(\"\\n5 dernières cartes :\")\n",
    "    foot(dicto)"
   ]
  },
  {
   "cell_type": "markdown",
   "metadata": {},
   "source": [
    "A présent que nous avons vérifier la disponibilité du site, nous allons pouvoir commencer à récupérer les données.\n",
    "\n",
    "Nous voyons donc via la sortie de cette cellule que nous avons bien récupéré les données de la première page en montrant le nombre de cartes récupérées, les 5 premières cartes et les 5 dernières cartes."
   ]
  },
  {
   "cell_type": "code",
   "execution_count": 3,
   "metadata": {},
   "outputs": [
    {
     "name": "stdout",
     "output_type": "stream",
     "text": [
      "160 cartes récupérées.\n",
      "\n",
      "5 premières cartes :\n",
      "Elesh Norn, Mother of Machines https://www.cardmarket.com/fr/Magic/Products/Singles/Phyrexia-All-Will-Be-One/Elesh-Norn-Mother-of-Machines\n",
      "Atraxa, Grand Unifier https://www.cardmarket.com/fr/Magic/Products/Singles/Phyrexia-All-Will-Be-One/Atraxa-Grand-Unifier\n",
      "Mondrak, Glory Dominus https://www.cardmarket.com/fr/Magic/Products/Singles/Phyrexia-All-Will-Be-One/Mondrak-Glory-Dominus\n",
      "Sword of Forge and Frontier https://www.cardmarket.com/fr/Magic/Products/Singles/Phyrexia-All-Will-Be-One/Sword-of-Forge-and-Frontier\n",
      "Oblitérateur phyrexian https://www.cardmarket.com/fr/Magic/Products/Singles/Phyrexia-All-Will-Be-One/Phyrexian-Obliterator\n",
      "\n",
      "5 dernières cartes :\n",
      "Voile d'assimilation https://www.cardmarket.com/fr/Magic/Products/Singles/Phyrexia-All-Will-Be-One/Veil-of-Assimilation\n",
      "Dévotion parachevée https://www.cardmarket.com/fr/Magic/Products/Singles/Phyrexia-All-Will-Be-One/Compleat-Devotion\n",
      "Bombe crânienne du Fourneau https://www.cardmarket.com/fr/Magic/Products/Singles/Phyrexia-All-Will-Be-One/Furnace-Skullbomb\n",
      "Quicksilver Fisher https://www.cardmarket.com/fr/Magic/Products/Singles/Phyrexia-All-Will-Be-One/Quicksilver-Fisher\n",
      "Cavaleur magmatique https://www.cardmarket.com/fr/Magic/Products/Singles/Phyrexia-All-Will-Be-One/Magmatic-Sprinter\n"
     ]
    }
   ],
   "source": [
    "# URL de la page de l'extension Phyrexia All will be one\n",
    "url_template = \"https://www.cardmarket.com/fr/Magic/Products/Singles/Phyrexia-All-Will-Be-One?sortBy=price_desc&site={page}\"\n",
    "\n",
    "if(get_status_code(url_template.format(page=1)) == 200):\n",
    "    # Création d'un dictionnaire pour stocker les noms de cartes et leurs URL correspondantes\n",
    "    card_url = {}\n",
    "    cards_divs = []\n",
    "    \n",
    "    for page in range(1, 15):\n",
    "        url = url_template.format(page=page)\n",
    "\n",
    "        # Récupération du contenu de la page\n",
    "        response = requests.get(url)\n",
    "        soup = BeautifulSoup(response.content, 'html.parser')\n",
    "\n",
    "        # Recherche de la liste des cartes\n",
    "        table = soup.find_all('div', {'class': 'row no-gutters'})\n",
    "\n",
    "        cards_list = []\n",
    "\n",
    "        for row in table:\n",
    "            cards_list.append(row)\n",
    "\n",
    "        for card in cards_list:\n",
    "            card_name = card.find('div', {'class': 'col-10 col-md-8 px-2 flex-column align-items-start justify-content-center'}).find('a').text.strip()\n",
    "            card_url[card_name] = \"https://www.cardmarket.com\" + card.find('div', {'class': 'col-10 col-md-8 px-2 flex-column align-items-start justify-content-center'}).find('a').get('href')\n",
    "\n",
    "    # Affichage du nombre de cartes récupérées\n",
    "    info(dicto = card_url)\n",
    "\n",
    "else:\n",
    "    print(\"Le code d'état de Cardmarket est\", status_code, \", la page n'a pas pu être chargée.\")\n"
   ]
  },
  {
   "cell_type": "markdown",
   "metadata": {},
   "source": [
    "Nous allons donc créer une fonction par type de données que nous souhaitons récupérer, le nom, le prix des 5 cartes les moins cher, la quantité de cartes en ventes, le prix moyen sur 7 jours, ainsi qu'une image de la carte. "
   ]
  },
  {
   "cell_type": "code",
   "execution_count": 4,
   "metadata": {},
   "outputs": [],
   "source": [
    "def getCardName(card):\n",
    "    #récupérer le nom de la carte qui est la clé du dictionnaire\n",
    "    card_name = card\n",
    "    if(card_name == ''):\n",
    "        card_name = 'Undefined'\n",
    "    return card_name;\n",
    "\n",
    "def getCardPrices(card):\n",
    "    cards_sales = []\n",
    "    tab_prices = []\n",
    "    \n",
    "    # Récupération du contenu de la page\n",
    "    url = card_url[card]\n",
    "    response = requests.get(url)\n",
    "    soup = BeautifulSoup(response.content, 'html.parser')\n",
    "\n",
    "    # Recherche de la liste des cartes\n",
    "    table = soup.find_all('div', {'class': 'row no-gutters article-row'})\n",
    "\n",
    "    for row in table:\n",
    "        cards_sales.append(row)\n",
    "\n",
    "    #récupérer les 5 premiers prix de vente de la carte\n",
    "    for card in cards_sales:\n",
    "        card_price = card.find('span', {\"class\" : \"font-weight-bold color-primary small text-right text-nowrap\"}).text.strip()[:-2]\n",
    "        tab_prices.append(card_price.replace(',', '.'))\n",
    "        if len(tab_prices) == 5:\n",
    "            break\n",
    "\n",
    "    return tab_prices;\n",
    "\n",
    "def getCardQuantity(card):\n",
    "    # récupérer l'url de la carte\n",
    "    url = card_url[card]\n",
    "    response = requests.get(url)\n",
    "    soup = BeautifulSoup(response.content, 'html.parser')\n",
    "\n",
    "    # Récupération du cadre contenant les informations de la carte\n",
    "    card_frame = soup.find('dl', {\"class\" : \"labeled row no-gutters mx-auto\"})\n",
    "\n",
    "    # Récupération de la quantité de la carte\n",
    "    frame_infos = card_frame.find_all('dd', {\"class\" : \"col-6 col-xl-7\"})[-6:]\n",
    "\n",
    "    # récupérer seulement la quantité, qui est contenu dans le premier élément du tableau\n",
    "    card_quantity = frame_infos[0].text.strip()\n",
    "\n",
    "    return card_quantity;\n",
    "\n",
    "def getCardAveragePrice(card):\n",
    "    # Récupération du contenu de la page\n",
    "    url = card_url[card]\n",
    "    response = requests.get(url)\n",
    "    soup = BeautifulSoup(response.content, 'html.parser')\n",
    "\n",
    "    # Récupération du cadre contenant les informations de la carte\n",
    "    card_frame = soup.find('dl', {\"class\" : \"labeled row no-gutters mx-auto\"})\n",
    "\n",
    "    # Récupération des données en chiffre de la carte\n",
    "    frame_infos = card_frame.find_all('dd', {\"class\" : \"col-6 col-xl-7\"})[-6:]\n",
    "    \n",
    "    # récupérer seulement le prix moyen sur 7 jours, qui est contenu dans l'avant dernier élément du tableau\n",
    "    card_average_price = frame_infos[-2].text.strip()\n",
    "    return card_average_price.replace(',', '.').replace(' €', '').replace('£', '');\n",
    "\n",
    "def getCardImage(card):\n",
    "    # Récupération du contenu de la page\n",
    "    url = card_url[card]\n",
    "    response = requests.get(url)\n",
    "    soup = BeautifulSoup(response.content, 'html.parser')\n",
    "\n",
    "    # Récupération de l'image de la carte\n",
    "    card_image = soup.find('img', {\"class\" : \"is-front\", \"alt\" : card}).get('src')\n",
    "    \n",
    "    # enlever les 2 premier caractères de l'url de l'image (//)\n",
    "    card_image = card_image[2:]\n",
    "    return card_image;"
   ]
  },
  {
   "cell_type": "markdown",
   "metadata": {},
   "source": [
    "La fonction si dessous nous permet donc d'exploiter toute nos fonctions getX pour récupérer les données sur les cartes et les mettre dans un dictionnaire card_intel. cela nous permettra de récupérer les informations sur les cartes plus facilement grâce à l'appel de cette fonction."
   ]
  },
  {
   "cell_type": "code",
   "execution_count": 5,
   "metadata": {},
   "outputs": [],
   "source": [
    "def getCardInfo(card):\n",
    "    url = card_url[card]\n",
    "    if(get_status_code(url) == 200):\n",
    "        card_intel = []\n",
    "        card_intel.append(getCardName(card))\n",
    "        card_intel.append(getCardPrices(card))\n",
    "        card_intel.append(getCardQuantity(card))\n",
    "        card_intel.append(getCardAveragePrice(card))\n",
    "        card_intel.append(getCardImage(card))\n",
    "    else:\n",
    "        print(\"Le code d'état de la page de \", card, \" est \", get_status_code(url), \", la page n'a pas pu être chargée.\")\n",
    "    return card_intel\n",
    "\n",
    "#for card in card_url:\n",
    "#    print(getCardInfo(card))"
   ]
  },
  {
   "cell_type": "markdown",
   "metadata": {},
   "source": [
    "A présent que nous avons récupéré les données, nous allons pouvoir les stocker dans un fichier.csv, j'ai pour cela utilisé la librairie csv pour gérer le fichier de sauvegarde, et la librairie os pour vérifier l'existence du fichier et créer le fichier/dossier s'il n'existe pas.\n",
    "\n",
    "Une fois le fichier créé, nous allons pouvoir récupérer tour à tour les données de toutes les cartes de l'extension Phyrexia all will be one, et les écrire dans le fichier."
   ]
  },
  {
   "cell_type": "code",
   "execution_count": 6,
   "metadata": {},
   "outputs": [],
   "source": [
    "# à décommenter pour créer le fichier .csv (prends environ 1h20 max)\n",
    "\n",
    "## Création du dossier s'il n'existe pas déjà\n",
    "#if not os.path.exists('data'):\n",
    "#    os.makedirs('data')\n",
    "#\n",
    "## Création du fichier .csv\n",
    "#with open('data/cards.csv', 'w', newline='', encoding='utf-8') as csvfile:\n",
    "#    writer = csv.writer(csvfile, delimiter=';')\n",
    "#    # nommer les collonnes du tableau\n",
    "#    writer.writerow(['Card Name', 'Prices', 'Quantity', 'Average Price (7 days)', 'link to picture'])\n",
    "#    for card in card_url:\n",
    "#        writer.writerow(getCardInfo(card))"
   ]
  },
  {
   "attachments": {},
   "cell_type": "markdown",
   "metadata": {},
   "source": [
    "Nous avons donc récupéré les données de toutes les cartes de l'extension Phyrexia all will be one, et les avons stocké dans un data/cards.csv."
   ]
  }
 ],
 "metadata": {
  "kernelspec": {
   "display_name": "Python 3",
   "language": "python",
   "name": "python3"
  },
  "language_info": {
   "codemirror_mode": {
    "name": "ipython",
    "version": 3
   },
   "file_extension": ".py",
   "mimetype": "text/x-python",
   "name": "python",
   "nbconvert_exporter": "python",
   "pygments_lexer": "ipython3",
   "version": "3.11.1"
  },
  "orig_nbformat": 4,
  "vscode": {
   "interpreter": {
    "hash": "376dd7633afddb7e11c0a9ffa5f656d1a19ddfafae55033d07193535982b765e"
   }
  }
 },
 "nbformat": 4,
 "nbformat_minor": 2
}
